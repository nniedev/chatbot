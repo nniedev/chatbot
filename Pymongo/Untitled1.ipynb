{
  "nbformat": 4,
  "nbformat_minor": 0,
  "metadata": {
    "colab": {
      "provenance": []
    },
    "kernelspec": {
      "name": "python3",
      "display_name": "Python 3"
    },
    "language_info": {
      "name": "python"
    }
  },
  "cells": [
    {
      "cell_type": "code",
      "source": [
        "pip install pymongo langchain_openai # ou a lib do seu LLM preferido"
      ],
      "metadata": {
        "colab": {
          "base_uri": "https://localhost:8080/"
        },
        "id": "35QEJLHjGI0G",
        "outputId": "ae937665-1530-4925-88a7-a49644865f64"
      },
      "execution_count": 7,
      "outputs": [
        {
          "output_type": "stream",
          "name": "stdout",
          "text": [
            "Requirement already satisfied: pymongo in /usr/local/lib/python3.11/dist-packages (4.13.0)\n",
            "Collecting langchain_openai\n",
            "  Downloading langchain_openai-0.3.17-py3-none-any.whl.metadata (2.3 kB)\n",
            "Requirement already satisfied: dnspython<3.0.0,>=1.16.0 in /usr/local/lib/python3.11/dist-packages (from pymongo) (2.7.0)\n",
            "Requirement already satisfied: langchain-core<1.0.0,>=0.3.59 in /usr/local/lib/python3.11/dist-packages (from langchain_openai) (0.3.59)\n",
            "Requirement already satisfied: openai<2.0.0,>=1.68.2 in /usr/local/lib/python3.11/dist-packages (from langchain_openai) (1.78.1)\n",
            "Requirement already satisfied: tiktoken<1,>=0.7 in /usr/local/lib/python3.11/dist-packages (from langchain_openai) (0.9.0)\n",
            "Requirement already satisfied: langsmith<0.4,>=0.1.125 in /usr/local/lib/python3.11/dist-packages (from langchain-core<1.0.0,>=0.3.59->langchain_openai) (0.3.42)\n",
            "Requirement already satisfied: tenacity!=8.4.0,<10.0.0,>=8.1.0 in /usr/local/lib/python3.11/dist-packages (from langchain-core<1.0.0,>=0.3.59->langchain_openai) (9.1.2)\n",
            "Requirement already satisfied: jsonpatch<2.0,>=1.33 in /usr/local/lib/python3.11/dist-packages (from langchain-core<1.0.0,>=0.3.59->langchain_openai) (1.33)\n",
            "Requirement already satisfied: PyYAML>=5.3 in /usr/local/lib/python3.11/dist-packages (from langchain-core<1.0.0,>=0.3.59->langchain_openai) (6.0.2)\n",
            "Requirement already satisfied: packaging<25,>=23.2 in /usr/local/lib/python3.11/dist-packages (from langchain-core<1.0.0,>=0.3.59->langchain_openai) (24.2)\n",
            "Requirement already satisfied: typing-extensions>=4.7 in /usr/local/lib/python3.11/dist-packages (from langchain-core<1.0.0,>=0.3.59->langchain_openai) (4.13.2)\n",
            "Requirement already satisfied: pydantic<3.0.0,>=2.5.2 in /usr/local/lib/python3.11/dist-packages (from langchain-core<1.0.0,>=0.3.59->langchain_openai) (2.11.4)\n",
            "Requirement already satisfied: anyio<5,>=3.5.0 in /usr/local/lib/python3.11/dist-packages (from openai<2.0.0,>=1.68.2->langchain_openai) (4.9.0)\n",
            "Requirement already satisfied: distro<2,>=1.7.0 in /usr/local/lib/python3.11/dist-packages (from openai<2.0.0,>=1.68.2->langchain_openai) (1.9.0)\n",
            "Requirement already satisfied: httpx<1,>=0.23.0 in /usr/local/lib/python3.11/dist-packages (from openai<2.0.0,>=1.68.2->langchain_openai) (0.28.1)\n",
            "Requirement already satisfied: jiter<1,>=0.4.0 in /usr/local/lib/python3.11/dist-packages (from openai<2.0.0,>=1.68.2->langchain_openai) (0.9.0)\n",
            "Requirement already satisfied: sniffio in /usr/local/lib/python3.11/dist-packages (from openai<2.0.0,>=1.68.2->langchain_openai) (1.3.1)\n",
            "Requirement already satisfied: tqdm>4 in /usr/local/lib/python3.11/dist-packages (from openai<2.0.0,>=1.68.2->langchain_openai) (4.67.1)\n",
            "Requirement already satisfied: regex>=2022.1.18 in /usr/local/lib/python3.11/dist-packages (from tiktoken<1,>=0.7->langchain_openai) (2024.11.6)\n",
            "Requirement already satisfied: requests>=2.26.0 in /usr/local/lib/python3.11/dist-packages (from tiktoken<1,>=0.7->langchain_openai) (2.32.3)\n",
            "Requirement already satisfied: idna>=2.8 in /usr/local/lib/python3.11/dist-packages (from anyio<5,>=3.5.0->openai<2.0.0,>=1.68.2->langchain_openai) (3.10)\n",
            "Requirement already satisfied: certifi in /usr/local/lib/python3.11/dist-packages (from httpx<1,>=0.23.0->openai<2.0.0,>=1.68.2->langchain_openai) (2025.4.26)\n",
            "Requirement already satisfied: httpcore==1.* in /usr/local/lib/python3.11/dist-packages (from httpx<1,>=0.23.0->openai<2.0.0,>=1.68.2->langchain_openai) (1.0.9)\n",
            "Requirement already satisfied: h11>=0.16 in /usr/local/lib/python3.11/dist-packages (from httpcore==1.*->httpx<1,>=0.23.0->openai<2.0.0,>=1.68.2->langchain_openai) (0.16.0)\n",
            "Requirement already satisfied: jsonpointer>=1.9 in /usr/local/lib/python3.11/dist-packages (from jsonpatch<2.0,>=1.33->langchain-core<1.0.0,>=0.3.59->langchain_openai) (3.0.0)\n",
            "Requirement already satisfied: orjson<4.0.0,>=3.9.14 in /usr/local/lib/python3.11/dist-packages (from langsmith<0.4,>=0.1.125->langchain-core<1.0.0,>=0.3.59->langchain_openai) (3.10.18)\n",
            "Requirement already satisfied: requests-toolbelt<2.0.0,>=1.0.0 in /usr/local/lib/python3.11/dist-packages (from langsmith<0.4,>=0.1.125->langchain-core<1.0.0,>=0.3.59->langchain_openai) (1.0.0)\n",
            "Requirement already satisfied: zstandard<0.24.0,>=0.23.0 in /usr/local/lib/python3.11/dist-packages (from langsmith<0.4,>=0.1.125->langchain-core<1.0.0,>=0.3.59->langchain_openai) (0.23.0)\n",
            "Requirement already satisfied: annotated-types>=0.6.0 in /usr/local/lib/python3.11/dist-packages (from pydantic<3.0.0,>=2.5.2->langchain-core<1.0.0,>=0.3.59->langchain_openai) (0.7.0)\n",
            "Requirement already satisfied: pydantic-core==2.33.2 in /usr/local/lib/python3.11/dist-packages (from pydantic<3.0.0,>=2.5.2->langchain-core<1.0.0,>=0.3.59->langchain_openai) (2.33.2)\n",
            "Requirement already satisfied: typing-inspection>=0.4.0 in /usr/local/lib/python3.11/dist-packages (from pydantic<3.0.0,>=2.5.2->langchain-core<1.0.0,>=0.3.59->langchain_openai) (0.4.0)\n",
            "Requirement already satisfied: charset-normalizer<4,>=2 in /usr/local/lib/python3.11/dist-packages (from requests>=2.26.0->tiktoken<1,>=0.7->langchain_openai) (3.4.2)\n",
            "Requirement already satisfied: urllib3<3,>=1.21.1 in /usr/local/lib/python3.11/dist-packages (from requests>=2.26.0->tiktoken<1,>=0.7->langchain_openai) (2.4.0)\n",
            "Downloading langchain_openai-0.3.17-py3-none-any.whl (62 kB)\n",
            "\u001b[2K   \u001b[90m━━━━━━━━━━━━━━━━━━━━━━━━━━━━━━━━━━━━━━━━\u001b[0m \u001b[32m62.9/62.9 kB\u001b[0m \u001b[31m1.8 MB/s\u001b[0m eta \u001b[36m0:00:00\u001b[0m\n",
            "\u001b[?25hInstalling collected packages: langchain_openai\n",
            "Successfully installed langchain_openai-0.3.17\n"
          ]
        }
      ]
    },
    {
      "cell_type": "code",
      "source": [
        "import os\n",
        "import pymongo\n",
        "from langchain_openai import ChatOpenAI\n",
        "from langchain_core.messages import HumanMessage\n",
        "import tiktoken # Necessário para obter tokens brutos do OpenAI\n",
        "\n",
        "# --- Configuração da Chave da API (Exemplo com OpenAI) ---\n",
        "# **ATENÇÃO:** Nunca coloque chaves de API diretamente no código em produção.\n",
        "# Use variáveis de ambiente (recomendado) ou um arquivo .env.\n",
        "# Ex: export OPENAI_API_KEY=\"SUA_CHAVE_AQUI\" no terminal antes de rodar.\n",
        "# Para este exemplo, estamos colocando diretamente para simplicidade, mas evite em produção.\n",
        "os.environ[\"OPENAI_API_KEY\"] = \"SUA_CHAVE_API_OPENAI_AQUI\" # Substitua pela sua chave real\n",
        "\n",
        "# --- Configuração do MongoDB ---\n",
        "MONGO_URI = \"mongodb://localhost:27017/\"\n",
        "DB_NAME = \"llm_tokens_db\"\n",
        "COLLECTION_NAME = \"token_usage\"\n",
        "\n",
        "def store_token_usage_in_mongodb(text, token_count, llm_model_name, collection, raw_tokens=None):\n",
        "    \"\"\"\n",
        "    Armazena os dados de tokenização no MongoDB.\n",
        "\n",
        "    Args:\n",
        "        text (str): O texto original que foi tokenizado.\n",
        "        token_count (int): O número de tokens.\n",
        "        llm_model_name (str): O nome do modelo LLM usado para tokenizar.\n",
        "        collection (pymongo.collection.Collection): A coleção MongoDB para inserir os dados.\n",
        "        raw_tokens (list, optional): A lista de tokens brutos (se disponível). Defaults to None.\n",
        "    \"\"\"\n",
        "    try:\n",
        "        document = {\n",
        "            \"original_text\": text,\n",
        "            \"token_count\": token_count,\n",
        "            \"llm_model\": llm_model_name,\n",
        "            \"timestamp\": pymongo.datetime.datetime.now(), # Adiciona um timestamp para rastreamento\n",
        "        }\n",
        "        if raw_tokens:\n",
        "            document[\"raw_tokens\"] = raw_tokens\n",
        "\n",
        "        result = collection.insert_one(document)\n",
        "        print(f\"Dados de token inseridos no MongoDB com ID: {result.inserted_id}\")\n",
        "\n",
        "    except Exception as e:\n",
        "        print(f\"Erro ao armazenar dados no MongoDB: {e}\")\n",
        "\n",
        "if __name__ == \"__main__\":\n",
        "    # Inicializar o modelo de LLM.\n",
        "    llm = ChatOpenAI(model=\"gpt-3.5-turbo\", temperature=0)\n",
        "\n",
        "    # Texto de exemplo para tokenização\n",
        "    text_to_tokenize = \"O Langchain é um framework poderoso para construir aplicações com modelos de linguagem grandes.\"\n",
        "\n",
        "    # --- 1. Contar tokens com Langchain ---\n",
        "    token_count = llm.get_num_tokens(text_to_tokenize)\n",
        "    print(f\"Número de tokens para o texto: {token_count}\")\n",
        "\n",
        "    # --- 2. Obter tokens brutos (específico para OpenAI/tiktoken) ---\n",
        "    decoded_tokens = None\n",
        "    try:\n",
        "        encoding = tiktoken.encoding_for_model(llm.model_name)\n",
        "        raw_token_ids = encoding.encode(text_to_tokenize)\n",
        "        decoded_tokens = [encoding.decode_single_token_bytes(t).decode('utf-8', errors='ignore') for t in raw_token_ids]\n",
        "        print(f\"Tokens decodificados (tiktoken): {decoded_tokens}\")\n",
        "    except ImportError:\n",
        "        print(\"tiktoken não está instalado. Não é possível obter tokens brutos para modelos OpenAI.\")\n",
        "    except Exception as e:\n",
        "        print(f\"Erro ao obter tokens brutos com tiktoken: {e}\")\n",
        "\n",
        "    # --- 3. Conectar ao MongoDB e Armazenar ---\n",
        "    client = None # Inicializa client como None\n",
        "    try:\n",
        "        client = pymongo.MongoClient(MONGO_URI)\n",
        "        db = client[DB_NAME]\n",
        "        token_collection = db[COLLECTION_NAME]\n",
        "        print(\"Conexão com MongoDB estabelecida com sucesso.\")\n",
        "\n",
        "        store_token_usage_in_mongodb(\n",
        "            text=text_to_tokenize,\n",
        "            token_count=token_count,\n",
        "            llm_model_name=llm.model_name,\n",
        "            collection=token_collection,\n",
        "            raw_tokens=decoded_tokens # Opcional: passa os tokens brutos se disponíveis\n",
        "        )\n",
        "\n",
        "    except pymongo.errors.ConnectionFailure as e:\n",
        "        print(f\"Erro de conexão com o MongoDB: {e}\")\n",
        "    except Exception as e:\n",
        "        print(f\"Ocorreu um erro geral: {e}\")\n",
        "    finally:\n",
        "        if client: # Verifica se o cliente foi inicializado antes de fechar\n",
        "            client.close()\n",
        "            print(\"Conexão com MongoDB fechada.\")"
      ],
      "metadata": {
        "colab": {
          "base_uri": "https://localhost:8080/"
        },
        "id": "XIRvBOuPG4GD",
        "outputId": "87b91c04-c2d8-400c-8ed8-72840b99a4ff"
      },
      "execution_count": 8,
      "outputs": [
        {
          "output_type": "stream",
          "name": "stdout",
          "text": [
            "Número de tokens para o texto: 21\n",
            "Tokens decodificados (tiktoken): ['O', ' Lang', 'chain', ' é', ' um', ' framework', ' poder', 'oso', ' para', ' constr', 'uir', ' ap', 'lica', 'ções', ' com', ' modelos', ' de', ' lingu', 'agem', ' grandes', '.']\n",
            "Conexão com MongoDB estabelecida com sucesso.\n",
            "Erro ao armazenar dados no MongoDB: module 'pymongo' has no attribute 'datetime'\n",
            "Conexão com MongoDB fechada.\n"
          ]
        }
      ]
    }
  ]
}